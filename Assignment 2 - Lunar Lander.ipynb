{
 "cells": [
  {
   "cell_type": "markdown",
   "metadata": {},
   "source": [
    "# Assignment 2 - Lunar Lander"
   ]
  },
  {
   "cell_type": "markdown",
   "metadata": {},
   "source": [
    "### Task 1"
   ]
  },
  {
   "cell_type": "code",
   "execution_count": null,
   "metadata": {},
   "outputs": [],
   "source": [
    "import keras\n",
    "from keras.models import Sequential\n",
    "from keras.layers import Dense, Activation, Dropout, Conv2D, MaxPooling2D, Flatten\n",
    "from keras.utils import np_utils\n",
    "from keras import backend as K\n",
    "from keras.utils.np_utils import to_categorical\n",
    "from keras.utils.vis_utils import model_to_dot\n",
    "from keras.optimizers import RMSprop, adam\n",
    "from keras import backend as K\n",
    "from keras.utils import np_utils\n",
    "from keras.callbacks import ModelCheckpoint\n",
    "\n",
    "import sklearn\n",
    "from sklearn.tree import export_graphviz\n",
    "from sklearn import metrics\n",
    "from sklearn.model_selection import train_test_split\n",
    "from sklearn import preprocessing \n",
    "from sklearn.utils import shuffle\n",
    "\n",
    "from IPython.display import SVG\n",
    "\n",
    "import csv\n",
    "import os \n",
    "import cv2\n",
    "import random\n",
    "import numpy as np\n",
    "import pandas as pd\n",
    "import matplotlib.pyplot as plt\n",
    "%matplotlib inline \n",
    "import scipy as sp\n",
    "from PIL import Image\n",
    "import PIL\n",
    "from numpy import newaxis\n",
    "\n",
    "from imblearn.over_sampling import SMOTE\n",
    "from random import randint"
   ]
  },
  {
   "cell_type": "markdown",
   "metadata": {},
   "source": [
    "## Data"
   ]
  },
  {
   "cell_type": "markdown",
   "metadata": {},
   "source": [
    "* Dataset is formed from the given images in the folder 'LunarLanderFramesPart1'\n",
    "* We have used GreyScale images.\n",
    "* We have resized images to size (84,84)\n",
    "* we have extracted target labels from the given filename and set this in the data.\n",
    "* We have used sequential images to randomly choose a common input for a set of images.\n",
    "* We have removed data imbalancing by using over_sampling using SMOTE"
   ]
  },
  {
   "cell_type": "code",
   "execution_count": 17,
   "metadata": {},
   "outputs": [],
   "source": [
    "# dataset name\n",
    "dataset_name = 'LunarLanderFramesPart1'\n",
    "\n",
    "# assuming data is contained in a train and a validation set\n",
    "train_data_dir = dataset_name\n",
    "\n",
    "# Set up some parmaeters for data loading\n",
    "sample_rate = 0.1\n",
    "\n",
    "# Threshold for choosing the number of sequential images having same target label.\n",
    "threshold = 10\n",
    "\n",
    "# desired dimensions of our images.\n",
    "img_width, img_height = 84, 84\n",
    "\n",
    "# different backends (e.g. tensorflow and theano) use different orderings for image data - fix this!\n",
    "if K.image_data_format() == 'channels_first':\n",
    "    input_shape = (1, img_width, img_height)\n",
    "else:\n",
    "    input_shape = (img_width, img_height, 1)"
   ]
  },
  {
   "cell_type": "markdown",
   "metadata": {},
   "source": [
    "Load image data."
   ]
  },
  {
   "cell_type": "code",
   "execution_count": 18,
   "metadata": {},
   "outputs": [
    {
     "name": "stdout",
     "output_type": "stream",
     "text": [
      "17187\n"
     ]
    }
   ],
   "source": [
    "image_class_folder = train_data_dir + \"/\"\n",
    "    \n",
    "# generate filenames from the data folder and do sampling\n",
    "image_filenames = [i for i in os.listdir(image_class_folder) if not i.startswith('.')] # use this for full dataset\n",
    "\n",
    "# Sort image filenames before usage to get the sequential images\n",
    "image_filenames.sort()\n",
    "\n",
    "# Number of files in the folder\n",
    "num_of_files = len(image_filenames)\n",
    "\n",
    "# List to store the selected images from the folder\n",
    "images_seq = []\n",
    "i=0\n",
    "\n",
    "# Loop to select one file from a sequence of files with same action\n",
    "while i < num_of_files:\n",
    "    count = 0\n",
    "    image_file = image_filenames[i]\n",
    "    \n",
    "    # Fetch the target variable from the filename\n",
    "    action = (image_file.split('_')[3]).split('.')[0]\n",
    "    temp_seq = []\n",
    "    continuous = True\n",
    "    \n",
    "    # Get the sequential images\n",
    "    while continuous and i < num_of_files - 1:\n",
    "        i += 1\n",
    "        if not (action == image_filenames[i][len(image_file) - 6] and count < threshold):\n",
    "            continuous = False\n",
    "            break\n",
    "        temp_seq.append(image_filenames[i])\n",
    "        count += 1\n",
    "    \n",
    "    size = len(temp_seq)\n",
    "    val = 0\n",
    "    \n",
    "    # Choose representative image among set of sequential images\n",
    "    if len(temp_seq) == 0:\n",
    "        images_seq.append(image_filenames[i-1])\n",
    "    elif len(temp_seq) > 0:\n",
    "        val = randint(0, size-1)\n",
    "        images_seq.append(temp_seq[val])\n",
    "    i += 1\n",
    "     \n",
    "print(len(images_seq))"
   ]
  },
  {
   "cell_type": "code",
   "execution_count": 19,
   "metadata": {},
   "outputs": [],
   "source": [
    "# Randomly sample the input images\n",
    "images_seq = random.sample(image_filenames, int(len(images_seq)*sample_rate))"
   ]
  },
  {
   "cell_type": "code",
   "execution_count": 20,
   "metadata": {},
   "outputs": [
    {
     "name": "stdout",
     "output_type": "stream",
     "text": [
      "Processed 0 of 1718\n",
      "Processed 100 of 1718\n",
      "Processed 200 of 1718\n",
      "Processed 300 of 1718\n",
      "Processed 400 of 1718\n",
      "Processed 500 of 1718\n",
      "Processed 600 of 1718\n",
      "Processed 700 of 1718\n",
      "Processed 800 of 1718\n",
      "Processed 900 of 1718\n",
      "Processed 1000 of 1718\n",
      "Processed 1100 of 1718\n",
      "Processed 1200 of 1718\n",
      "Processed 1300 of 1718\n",
      "Processed 1400 of 1718\n",
      "Processed 1500 of 1718\n",
      "Processed 1600 of 1718\n",
      "Processed 1700 of 1718\n",
      "Data shape: (1718, 84, 84, 3)\n",
      "Target Label shape: (1718,)\n"
     ]
    }
   ],
   "source": [
    "# Number of image files\n",
    "seq_len = len(images_seq)\n",
    "\n",
    "# Number of target labels\n",
    "num_classes = 4\n",
    "\n",
    "# Initialise arrays for data storage\n",
    "X_data = np.ndarray((0, input_shape[0], input_shape[1], input_shape[2]), dtype=np.float)\n",
    "y_data= np.ndarray(0, dtype=np.str)\n",
    "\n",
    "X_data_part = np.ndarray((seq_len, input_shape[0], input_shape[1], input_shape[2]), dtype=np.float)\n",
    "\n",
    "# # Iterate throuigh the filenames and for each one load the image, resize and normalise\n",
    "for i, img in enumerate(images_seq):\n",
    "\n",
    "    try:\n",
    "        # Low the images and resize them\n",
    "        image = cv2.imread(image_class_folder + img, cv2.IMREAD_GRAYSCALE)\n",
    "        image = cv2.resize(image, (img_height, img_width), interpolation=cv2.INTER_CUBIC)\n",
    "        \n",
    "        # Converting 2D image to 3D image\n",
    "        image = image[:,:,newaxis]\n",
    "        \n",
    "        # If channel order of network does not match open cv format swap it\n",
    "        if K.image_data_format() == 'channels_first':\n",
    "            image=np.swapaxes(np.swapaxes(image, 1, 2), 0, 1)\n",
    "        \n",
    "        # Add image data to data array and normalise\n",
    "        X_data_part[i] = image\n",
    "        X_data_part[i] = X_data_part[i]/255\n",
    "        \n",
    "        label = (img.split('_')[3]).split('.')[0]\n",
    "        \n",
    "        # Add label to label array\n",
    "        y_data = np.append(y_data, label)\n",
    "        \n",
    "        if i%100 == 0: print('Processed {} of {}'.format(i, seq_len))\n",
    "    except Exception as e:\n",
    "        print(str(e))\n",
    "        \n",
    "# Append the part to the overall data array\n",
    "X_data = np.append(X_data, X_data_part, axis=0)\n",
    "    \n",
    "print(\"Data shape: {}\".format(X_data.shape))\n",
    "print(\"Target Label shape: {}\".format(y_data.shape))"
   ]
  },
  {
   "cell_type": "markdown",
   "metadata": {},
   "source": [
    "### Handling Data imbalancing"
   ]
  },
  {
   "cell_type": "code",
   "execution_count": 21,
   "metadata": {},
   "outputs": [
    {
     "data": {
      "image/png": "[encoded data removed]",
      "text/plain": [
       "<Figure size 432x288 with 1 Axes>"
      ]
     },
     "metadata": {
      "needs_background": "light"
     },
     "output_type": "display_data"
    }
   ],
   "source": [
    "# Showing the plot before balancing the data\n",
    "\n",
    "pd.Series(y_data).value_counts().plot(kind='bar')\n",
    "plt.xticks(rotation=0)\n",
    "plt.xlabel('Target Label')\n",
    "plt.ylabel('Value Counts')\n",
    "plt.show()"
   ]
  },
  {
   "cell_type": "code",
   "execution_count": 22,
   "metadata": {},
   "outputs": [],
   "source": [
    "# Extracting values to give 2D input for balancing the data\n",
    "# i - Index of the data\n",
    "# y_data - Target data labels\n",
    "\n",
    "samp_x = []\n",
    "for i, val in enumerate(X_data):\n",
    "    samp_x.append((i,int(y_data[i])))\n",
    "\n",
    "samp_y = []\n",
    "for i in range(len(y_data)):\n",
    "    samp_y.append(int(y_data[i]))\n",
    "\n",
    "smote = SMOTE(random_state=42)\n",
    "X_sm, y_sm = smote.fit_sample(samp_x, samp_y)"
   ]
  },
  {
   "cell_type": "code",
   "execution_count": 23,
   "metadata": {
    "scrolled": true
   },
   "outputs": [
    {
     "data": {
      "image/png": "[encoded data removed]",
      "text/plain": [
       "<Figure size 432x288 with 1 Axes>"
      ]
     },
     "metadata": {
      "needs_background": "light"
     },
     "output_type": "display_data"
    }
   ],
   "source": [
    "# Target data labels after handling data imbalancing\n",
    "\n",
    "pd.Series(y_sm).value_counts().plot(kind='bar')\n",
    "plt.xticks(rotation=0)\n",
    "plt.xlabel('Target Label')\n",
    "plt.ylabel('Value Counts')\n",
    "plt.show()"
   ]
  },
  {
   "cell_type": "markdown",
   "metadata": {},
   "source": [
    "## Preparing data after handling data imbalancing"
   ]
  },
  {
   "cell_type": "code",
   "execution_count": 31,
   "metadata": {},
   "outputs": [],
   "source": [
    "X_n = []\n",
    "y_n = []\n",
    "for i, val in enumerate(X_sm):\n",
    "    temp = val[0]\n",
    "    X_n.append(X_data[temp])\n",
    "    y_n.append(y_data[temp])\n",
    "\n",
    "X_data = np.asarray(X_n)\n",
    "y_data = np.asarray(y_n)"
   ]
  },
  {
   "cell_type": "markdown",
   "metadata": {},
   "source": [
    "Split data into training and test partitions"
   ]
  },
  {
   "cell_type": "code",
   "execution_count": 45,
   "metadata": {},
   "outputs": [],
   "source": [
    "# Perfrom split to train, validation, test\n",
    "X_train_plus_valid, X_test, y_train_plus_valid, y_test = train_test_split(X_data, y_data, random_state=0, test_size = 0.30, train_size = 0.7)\n",
    "\n",
    "X_train, X_valid, y_train, y_valid = train_test_split(X_train_plus_valid, y_train_plus_valid, random_state=0, test_size = 0.20, train_size = 0.8)"
   ]
  },
  {
   "cell_type": "markdown",
   "metadata": {},
   "source": [
    "Reshape output data for use with a neural network."
   ]
  },
  {
   "cell_type": "code",
   "execution_count": 50,
   "metadata": {},
   "outputs": [],
   "source": [
    "# Convert class vectors to binary class matrices.\n",
    "y_train_encoder = sklearn.preprocessing.LabelEncoder()\n",
    "y_train_num = y_train_encoder.fit_transform(y_train)\n",
    "y_train_wide = keras.utils.to_categorical(y_train_num, num_classes)\n",
    "\n",
    "y_test_num = y_train_encoder.fit_transform(y_test)\n",
    "y_test_wide = keras.utils.to_categorical(y_test_num, num_classes)\n",
    "\n",
    "y_train_plus_valid_num = y_train_encoder.fit_transform(y_train_plus_valid)\n",
    "y_train_plus_valid_wide = keras.utils.to_categorical(y_train_plus_valid_num, num_classes)\n",
    "\n",
    "y_valid_num = y_train_encoder.fit_transform(y_valid)\n",
    "y_valid_wide = keras.utils.to_categorical(y_valid_num, num_classes)"
   ]
  },
  {
   "cell_type": "markdown",
   "metadata": {},
   "source": [
    "Record the number to label mapping "
   ]
  },
  {
   "cell_type": "code",
   "execution_count": 34,
   "metadata": {},
   "outputs": [],
   "source": [
    "classes_num_label = dict()\n",
    "\n",
    "for idx, lbl in enumerate(y_train_encoder.classes_):\n",
    "    classes_num_label[idx] = lbl"
   ]
  },
  {
   "cell_type": "markdown",
   "metadata": {},
   "source": [
    "Print a few randomly sampled example images."
   ]
  },
  {
   "cell_type": "code",
   "execution_count": 35,
   "metadata": {},
   "outputs": [
    {
     "name": "stderr",
     "output_type": "stream",
     "text": [
      "C:\\Users\\Salman\\Anaconda3\\lib\\site-packages\\ipykernel_launcher.py:10: DeprecationWarning: `toimage` is deprecated!\n",
      "`toimage` is deprecated in SciPy 1.0.0, and will be removed in 1.2.0.\n",
      "Use Pillow's ``Image.fromarray`` directly instead.\n",
      "  # Remove the CWD from sys.path while we load stuff.\n"
     ]
    },
    {
     "data": {
      "image/png": "[encoded data removed]",
      "text/plain": [
       "<Figure size 1440x1440 with 25 Axes>"
      ]
     },
     "metadata": {
      "needs_background": "light"
     },
     "output_type": "display_data"
    }
   ],
   "source": [
    "pltsize=4\n",
    "row_images = 5\n",
    "col_images = 5\n",
    "plt.figure(figsize=(col_images*pltsize, row_images*pltsize))\n",
    "\n",
    "for i in range(row_images * col_images):\n",
    "    i_rand = random.randint(0, X_train.shape[0])\n",
    "    plt.subplot(row_images,col_images,i+1)\n",
    "    plt.axis('off')\n",
    "    plt.imshow(sp.misc.toimage(X_train[i_rand]))\n",
    "    plt.title((str(i_rand) + \" \" + y_train[i_rand]))\n",
    "    # print('Training sample',i_rand,': class:',y_train[i_rand])"
   ]
  },
  {
   "cell_type": "markdown",
   "metadata": {},
   "source": [
    "## Modelling"
   ]
  },
  {
   "cell_type": "markdown",
   "metadata": {},
   "source": [
    "Create model architecture"
   ]
  },
  {
   "cell_type": "code",
   "execution_count": 36,
   "metadata": {},
   "outputs": [
    {
     "name": "stdout",
     "output_type": "stream",
     "text": [
      "_________________________________________________________________\n",
      "Layer (type)                 Output Shape              Param #   \n",
      "=================================================================\n",
      "conv2d_7 (Conv2D)            (None, 82, 82, 32)        896       \n",
      "_________________________________________________________________\n",
      "activation_11 (Activation)   (None, 82, 82, 32)        0         \n",
      "_________________________________________________________________\n",
      "max_pooling2d_7 (MaxPooling2 (None, 41, 41, 32)        0         \n",
      "_________________________________________________________________\n",
      "conv2d_8 (Conv2D)            (None, 39, 39, 32)        9248      \n",
      "_________________________________________________________________\n",
      "activation_12 (Activation)   (None, 39, 39, 32)        0         \n",
      "_________________________________________________________________\n",
      "max_pooling2d_8 (MaxPooling2 (None, 19, 19, 32)        0         \n",
      "_________________________________________________________________\n",
      "conv2d_9 (Conv2D)            (None, 17, 17, 64)        18496     \n",
      "_________________________________________________________________\n",
      "activation_13 (Activation)   (None, 17, 17, 64)        0         \n",
      "_________________________________________________________________\n",
      "max_pooling2d_9 (MaxPooling2 (None, 8, 8, 64)          0         \n",
      "_________________________________________________________________\n",
      "flatten_3 (Flatten)          (None, 4096)              0         \n",
      "_________________________________________________________________\n",
      "dense_5 (Dense)              (None, 256)               1048832   \n",
      "_________________________________________________________________\n",
      "activation_14 (Activation)   (None, 256)               0         \n",
      "_________________________________________________________________\n",
      "dropout_3 (Dropout)          (None, 256)               0         \n",
      "_________________________________________________________________\n",
      "dense_6 (Dense)              (None, 4)                 1028      \n",
      "_________________________________________________________________\n",
      "activation_15 (Activation)   (None, 4)                 0         \n",
      "=================================================================\n",
      "Total params: 1,078,500\n",
      "Trainable params: 1,078,500\n",
      "Non-trainable params: 0\n",
      "_________________________________________________________________\n"
     ]
    }
   ],
   "source": [
    "model = Sequential()\n",
    "model.add(Conv2D(32, (3, 3), input_shape=input_shape))\n",
    "model.add(Activation('relu'))\n",
    "model.add(MaxPooling2D(pool_size=(2, 2)))\n",
    "\n",
    "model.add(Conv2D(32, (3, 3)))\n",
    "model.add(Activation('relu'))\n",
    "model.add(MaxPooling2D(pool_size=(2, 2)))\n",
    "\n",
    "model.add(Conv2D(64, (3, 3)))\n",
    "model.add(Activation('relu'))\n",
    "model.add(MaxPooling2D(pool_size=(2, 2)))\n",
    "\n",
    "model.add(Flatten())\n",
    "model.add(Dense(256))\n",
    "model.add(Activation('relu'))\n",
    "model.add(Dropout(0.5))\n",
    "model.add(Dense(num_classes))\n",
    "model.add(Activation('softmax'))\n",
    "\n",
    "model.compile(loss='binary_crossentropy',\n",
    "              optimizer='adam',\n",
    "              metrics=['accuracy'])\n",
    "\n",
    "model.summary()"
   ]
  },
  {
   "cell_type": "markdown",
   "metadata": {},
   "source": [
    "Train the model. We allow the model to overfit but save the best set of weights based on validation loss as we go. Then at the end of training (assuming the model has overfit) we revert back to the saved model."
   ]
  },
  {
   "cell_type": "code",
   "execution_count": 41,
   "metadata": {},
   "outputs": [
    {
     "name": "stdout",
     "output_type": "stream",
     "text": [
      "Train on 1798 samples, validate on 450 samples\n",
      "Epoch 1/20\n",
      "1798/1798 [==============================] - 36s 20ms/step - loss: 0.2127 - acc: 0.9096 - val_loss: 0.2713 - val_acc: 0.8883\n",
      "Epoch 2/20\n",
      "1798/1798 [==============================] - 41s 23ms/step - loss: 0.1970 - acc: 0.9191 - val_loss: 0.2633 - val_acc: 0.8950\n",
      "Epoch 3/20\n",
      "1798/1798 [==============================] - 41s 23ms/step - loss: 0.1836 - acc: 0.9274 - val_loss: 0.2714 - val_acc: 0.8822\n",
      "Epoch 4/20\n",
      "1798/1798 [==============================] - 41s 23ms/step - loss: 0.1899 - acc: 0.9221 - val_loss: 0.2523 - val_acc: 0.9017\n",
      "Epoch 5/20\n",
      "1798/1798 [==============================] - 41s 23ms/step - loss: 0.1738 - acc: 0.9309 - val_loss: 0.2649 - val_acc: 0.8961\n",
      "Epoch 6/20\n",
      "1798/1798 [==============================] - 40s 23ms/step - loss: 0.1527 - acc: 0.9412 - val_loss: 0.2606 - val_acc: 0.9017\n",
      "Epoch 7/20\n",
      "1798/1798 [==============================] - 45s 25ms/step - loss: 0.1627 - acc: 0.9355 - val_loss: 0.2773 - val_acc: 0.8944\n",
      "Epoch 8/20\n",
      "1798/1798 [==============================] - 42s 24ms/step - loss: 0.1654 - acc: 0.9340 - val_loss: 0.2681 - val_acc: 0.9006\n",
      "Epoch 9/20\n",
      "1798/1798 [==============================] - 41s 23ms/step - loss: 0.1485 - acc: 0.9402 - val_loss: 0.2588 - val_acc: 0.9022\n",
      "Epoch 10/20\n",
      "1798/1798 [==============================] - 42s 23ms/step - loss: 0.1417 - acc: 0.9419 - val_loss: 0.2706 - val_acc: 0.9106\n",
      "Epoch 11/20\n",
      "1798/1798 [==============================] - 45s 25ms/step - loss: 0.1343 - acc: 0.9437 - val_loss: 0.2840 - val_acc: 0.9044\n",
      "Epoch 12/20\n",
      "1798/1798 [==============================] - 42s 23ms/step - loss: 0.1234 - acc: 0.9523 - val_loss: 0.2585 - val_acc: 0.9139\n",
      "Epoch 13/20\n",
      "1798/1798 [==============================] - 41s 23ms/step - loss: 0.1069 - acc: 0.9588 - val_loss: 0.2798 - val_acc: 0.9133\n",
      "Epoch 14/20\n",
      "1798/1798 [==============================] - 43s 24ms/step - loss: 0.1000 - acc: 0.9605 - val_loss: 0.2844 - val_acc: 0.9122\n",
      "Epoch 15/20\n",
      "1798/1798 [==============================] - 44s 25ms/step - loss: 0.0925 - acc: 0.9700 - val_loss: 0.3051 - val_acc: 0.9111\n",
      "Epoch 16/20\n",
      "1798/1798 [==============================] - 41s 23ms/step - loss: 0.0943 - acc: 0.9632 - val_loss: 0.2787 - val_acc: 0.9183\n",
      "Epoch 17/20\n",
      "1798/1798 [==============================] - 42s 24ms/step - loss: 0.0846 - acc: 0.9709 - val_loss: 0.3010 - val_acc: 0.9167\n",
      "Epoch 18/20\n",
      "1798/1798 [==============================] - 44s 25ms/step - loss: 0.0724 - acc: 0.9743 - val_loss: 0.3056 - val_acc: 0.9150\n",
      "Epoch 19/20\n",
      "1798/1798 [==============================] - 49s 27ms/step - loss: 0.0730 - acc: 0.9737 - val_loss: 0.3085 - val_acc: 0.9217\n",
      "Epoch 20/20\n",
      "1798/1798 [==============================] - 49s 27ms/step - loss: 0.0820 - acc: 0.9650 - val_loss: 0.2861 - val_acc: 0.9217\n"
     ]
    }
   ],
   "source": [
    "batch_size = 128\n",
    "epochs = 20\n",
    "\n",
    "# Set up the callback to save the best model based on validaion data\n",
    "best_weights_filepath = './best_weights_LunarLander.hdf5'\n",
    "mcp = ModelCheckpoint(best_weights_filepath, monitor=\"val_acc\",\n",
    "                      save_best_only=True, save_weights_only=False)\n",
    "\n",
    "history = model.fit(X_train, y_train_wide,\n",
    "          batch_size=batch_size,\n",
    "          epochs=epochs,\n",
    "          verbose = 1,\n",
    "          validation_split = 0.2,\n",
    "          shuffle=True,\n",
    "          callbacks=[mcp])\n",
    "\n",
    "# Saving the model on use on lunar_lander_ml_player\n",
    "model.save('./model_sec.h5')\n",
    "\n",
    "#reload best weights\n",
    "model.load_weights(best_weights_filepath)"
   ]
  },
  {
   "cell_type": "code",
   "execution_count": 43,
   "metadata": {},
   "outputs": [
    {
     "name": "stdout",
     "output_type": "stream",
     "text": [
      "_________________________________________________________________\n",
      "Layer (type)                 Output Shape              Param #   \n",
      "=================================================================\n",
      "input_1 (InputLayer)         (None, 84, 84, 3)         0         \n",
      "_________________________________________________________________\n",
      "block1_conv1 (Conv2D)        (None, 84, 84, 64)        1792      \n",
      "_________________________________________________________________\n",
      "block1_conv2 (Conv2D)        (None, 84, 84, 64)        36928     \n",
      "_________________________________________________________________\n",
      "block1_pool (MaxPooling2D)   (None, 42, 42, 64)        0         \n",
      "_________________________________________________________________\n",
      "block2_conv1 (Conv2D)        (None, 42, 42, 128)       73856     \n",
      "_________________________________________________________________\n",
      "block2_conv2 (Conv2D)        (None, 42, 42, 128)       147584    \n",
      "_________________________________________________________________\n",
      "block2_pool (MaxPooling2D)   (None, 21, 21, 128)       0         \n",
      "_________________________________________________________________\n",
      "block3_conv1 (Conv2D)        (None, 21, 21, 256)       295168    \n",
      "_________________________________________________________________\n",
      "block3_conv2 (Conv2D)        (None, 21, 21, 256)       590080    \n",
      "_________________________________________________________________\n",
      "block3_conv3 (Conv2D)        (None, 21, 21, 256)       590080    \n",
      "_________________________________________________________________\n",
      "block3_pool (MaxPooling2D)   (None, 10, 10, 256)       0         \n",
      "_________________________________________________________________\n",
      "block4_conv1 (Conv2D)        (None, 10, 10, 512)       1180160   \n",
      "_________________________________________________________________\n",
      "block4_conv2 (Conv2D)        (None, 10, 10, 512)       2359808   \n",
      "_________________________________________________________________\n",
      "block4_conv3 (Conv2D)        (None, 10, 10, 512)       2359808   \n",
      "_________________________________________________________________\n",
      "block4_pool (MaxPooling2D)   (None, 5, 5, 512)         0         \n",
      "_________________________________________________________________\n",
      "block5_conv1 (Conv2D)        (None, 5, 5, 512)         2359808   \n",
      "_________________________________________________________________\n",
      "block5_conv2 (Conv2D)        (None, 5, 5, 512)         2359808   \n",
      "_________________________________________________________________\n",
      "block5_conv3 (Conv2D)        (None, 5, 5, 512)         2359808   \n",
      "_________________________________________________________________\n",
      "block5_pool (MaxPooling2D)   (None, 2, 2, 512)         0         \n",
      "=================================================================\n",
      "Total params: 14,714,688\n",
      "Trainable params: 14,714,688\n",
      "Non-trainable params: 0\n",
      "_________________________________________________________________\n"
     ]
    },
    {
     "data": {
      "text/plain": [
       "None"
      ]
     },
     "metadata": {},
     "output_type": "display_data"
    }
   ],
   "source": [
    "# build the VGG16 network\n",
    "vgg16_model = keras.applications.VGG16(weights='imagenet', include_top=False, input_shape = X_train[0].shape)\n",
    "display(vgg16_model.summary())"
   ]
  },
  {
   "cell_type": "markdown",
   "metadata": {},
   "source": [
    "Fitting vgg16 model"
   ]
  },
  {
   "cell_type": "code",
   "execution_count": 47,
   "metadata": {},
   "outputs": [],
   "source": [
    "bottleneck_features_train_plus_valid = vgg16_model.predict(X_train_plus_valid)\n",
    "bottleneck_features_train_plus_valid = bottleneck_features_train_plus_valid.reshape(bottleneck_features_train_plus_valid.shape[0], bottleneck_features_train_plus_valid.shape[1]*bottleneck_features_train_plus_valid.shape[2]*bottleneck_features_train_plus_valid.shape[3])\n",
    "\n",
    "bottleneck_features_train = vgg16_model.predict(X_train)\n",
    "bottleneck_features_train = bottleneck_features_train.reshape(bottleneck_features_train.shape[0], bottleneck_features_train.shape[1]*bottleneck_features_train.shape[2]*bottleneck_features_train.shape[3])\n",
    "\n",
    "bottleneck_features_valid = vgg16_model.predict(X_valid)\n",
    "bottleneck_features_valid = bottleneck_features_valid.reshape(bottleneck_features_valid.shape[0], bottleneck_features_valid.shape[1]*bottleneck_features_valid.shape[2]*bottleneck_features_valid.shape[3])\n",
    "\n",
    "bottleneck_features_test = vgg16_model.predict(X_test)\n",
    "bottleneck_features_test = bottleneck_features_test.reshape(bottleneck_features_test.shape[0], bottleneck_features_test.shape[1]*bottleneck_features_test.shape[2]*bottleneck_features_test.shape[3])"
   ]
  },
  {
   "cell_type": "markdown",
   "metadata": {},
   "source": [
    "Plot some evaluation stats of Sequential modelling defined above"
   ]
  },
  {
   "cell_type": "code",
   "execution_count": 38,
   "metadata": {},
   "outputs": [
    {
     "data": {
      "image/png": "[encoded data removed]",
      "text/plain": [
       "<Figure size 432x288 with 1 Axes>"
      ]
     },
     "metadata": {
      "needs_background": "light"
     },
     "output_type": "display_data"
    }
   ],
   "source": [
    "loss = history.history['loss']\n",
    "val_loss = history.history['val_loss']\n",
    "\n",
    "plt.xlabel('Epochs')\n",
    "plt.ylabel('Loss')\n",
    "plt.plot(loss, 'blue', label='Training Loss')\n",
    "plt.plot(val_loss, 'green', label='Validation Loss')\n",
    "plt.xticks(range(0,epochs)[0::2])\n",
    "plt.legend()\n",
    "plt.show()"
   ]
  },
  {
   "cell_type": "code",
   "execution_count": 39,
   "metadata": {},
   "outputs": [
    {
     "name": "stdout",
     "output_type": "stream",
     "text": [
      "              precision    recall  f1-score   support\n",
      "\n",
      "           0       0.90      0.75      0.82      1029\n",
      "           1       0.82      0.28      0.42       110\n",
      "           2       0.75      0.95      0.84      1016\n",
      "           3       1.00      0.56      0.72        93\n",
      "\n",
      "   micro avg       0.81      0.81      0.81      2248\n",
      "   macro avg       0.87      0.64      0.70      2248\n",
      "weighted avg       0.83      0.81      0.80      2248\n",
      "\n",
      "Confusion matrix\n",
      "[[774   4 251   0]\n",
      " [ 25  31  54   0]\n",
      " [ 47   0 969   0]\n",
      " [ 14   3  24  52]]\n"
     ]
    }
   ],
   "source": [
    "# Make a set of predictions for the training data\n",
    "pred = model.predict_classes(X_train)\n",
    "\n",
    "# Print performance details\n",
    "print(metrics.classification_report(y_train_num, pred))\n",
    "print(\"Confusion matrix\")\n",
    "print(metrics.confusion_matrix(y_train_num, pred))"
   ]
  },
  {
   "cell_type": "markdown",
   "metadata": {},
   "source": [
    "Using SVM to compare metrics"
   ]
  },
  {
   "cell_type": "code",
   "execution_count": 51,
   "metadata": {},
   "outputs": [
    {
     "name": "stderr",
     "output_type": "stream",
     "text": [
      "C:\\Users\\Salman\\Anaconda3\\lib\\site-packages\\sklearn\\svm\\base.py:196: FutureWarning: The default value of gamma will change from 'auto' to 'scale' in version 0.22 to account better for unscaled features. Set gamma explicitly to 'auto' or 'scale' to avoid this warning.\n",
      "  \"avoid this warning.\", FutureWarning)\n"
     ]
    },
    {
     "data": {
      "text/plain": [
       "SVC(C=1.0, cache_size=200, class_weight=None, coef0=0.0,\n",
       "  decision_function_shape='ovo', degree=3, gamma='auto_deprecated',\n",
       "  kernel='rbf', max_iter=-1, probability=False, random_state=None,\n",
       "  shrinking=True, tol=0.001, verbose=False)"
      ]
     },
     "execution_count": 51,
     "metadata": {},
     "output_type": "execute_result"
    }
   ],
   "source": [
    "from sklearn import svm\n",
    "clf = svm.SVC(decision_function_shape='ovo')\n",
    "clf.fit(bottleneck_features_train_plus_valid, y_train_plus_valid_num) "
   ]
  },
  {
   "cell_type": "markdown",
   "metadata": {},
   "source": [
    "Using GridSearch to find optimum parameters"
   ]
  },
  {
   "cell_type": "code",
   "execution_count": 53,
   "metadata": {},
   "outputs": [
    {
     "name": "stdout",
     "output_type": "stream",
     "text": [
      "Fitting 5 folds for each of 24 candidates, totalling 120 fits\n"
     ]
    },
    {
     "name": "stderr",
     "output_type": "stream",
     "text": [
      "[Parallel(n_jobs=-1)]: Using backend LokyBackend with 8 concurrent workers.\n",
      "[Parallel(n_jobs=-1)]: Done  25 tasks      | elapsed:  3.5min\n",
      "[Parallel(n_jobs=-1)]: Done 120 out of 120 | elapsed: 11.4min finished\n"
     ]
    },
    {
     "data": {
      "text/plain": [
       "GridSearchCV(cv=5, error_score='raise-deprecating',\n",
       "       estimator=SVC(C=1.0, cache_size=200, class_weight=None, coef0=0.0,\n",
       "  decision_function_shape='ovr', degree=3, gamma='auto_deprecated',\n",
       "  kernel='rbf', max_iter=-1, probability=False, random_state=None,\n",
       "  shrinking=True, tol=0.001, verbose=False),\n",
       "       fit_params=None, iid='warn', n_jobs=-1,\n",
       "       param_grid=[{'kernel': ['rbf'], 'decision_function_shape': ['ovo'], 'gamma': [0.001, 0.0001, 1e-05, 1e-06, 1e-07, 1e-08], 'C': [1, 10, 100, 1000]}],\n",
       "       pre_dispatch='2*n_jobs', refit=True, return_train_score='warn',\n",
       "       scoring=None, verbose=2)"
      ]
     },
     "execution_count": 53,
     "metadata": {},
     "output_type": "execute_result"
    }
   ],
   "source": [
    "from sklearn.model_selection import GridSearchCV\n",
    "\n",
    "tuned_parameters = [{'kernel': ['rbf'], 'decision_function_shape':['ovo'],\n",
    "                     'gamma': [1e-3, 1e-4, 1e-5, 1e-6, 1e-7, 1e-8],\n",
    "                     'C': [1, 10, 100, 1000]}]\n",
    "\n",
    "clf = GridSearchCV(svm.SVC(), tuned_parameters, cv=5, verbose = 2, n_jobs = -1)\n",
    "clf.fit(bottleneck_features_train_plus_valid, y_train_plus_valid_num) "
   ]
  },
  {
   "cell_type": "markdown",
   "metadata": {},
   "source": [
    "Some more evaluation metrics"
   ]
  },
  {
   "cell_type": "code",
   "execution_count": 54,
   "metadata": {},
   "outputs": [
    {
     "name": "stdout",
     "output_type": "stream",
     "text": [
      "              precision    recall  f1-score   support\n",
      "\n",
      "           0       0.92      0.90      0.91       826\n",
      "           1       0.95      0.85      0.89        84\n",
      "           2       0.90      0.94      0.92       811\n",
      "           3       0.96      0.84      0.90        77\n",
      "\n",
      "   micro avg       0.91      0.91      0.91      1798\n",
      "   macro avg       0.93      0.88      0.90      1798\n",
      "weighted avg       0.91      0.91      0.91      1798\n",
      "\n",
      "Confusion matrix\n",
      "[[746   3  76   1]\n",
      " [ 10  71   3   0]\n",
      " [ 49   1 759   2]\n",
      " [  4   0   8  65]]\n"
     ]
    }
   ],
   "source": [
    "# Make a set of predictions for the validation data\n",
    "pred = clf.predict(bottleneck_features_train)\n",
    "\n",
    "# Print performance details\n",
    "print(metrics.classification_report(y_train_num, pred))\n",
    "print(\"Confusion matrix\")\n",
    "print(metrics.confusion_matrix(y_train_num, pred))"
   ]
  },
  {
   "cell_type": "markdown",
   "metadata": {},
   "source": [
    "## Evaluation"
   ]
  },
  {
   "cell_type": "code",
   "execution_count": 55,
   "metadata": {},
   "outputs": [
    {
     "name": "stdout",
     "output_type": "stream",
     "text": [
      "              precision    recall  f1-score   support\n",
      "\n",
      "           0       0.84      0.85      0.84       429\n",
      "           1       0.72      0.79      0.75        48\n",
      "           2       0.86      0.84      0.85       453\n",
      "           3       0.71      0.71      0.71        34\n",
      "\n",
      "   micro avg       0.84      0.84      0.84       964\n",
      "   macro avg       0.78      0.80      0.79       964\n",
      "weighted avg       0.84      0.84      0.84       964\n",
      "\n",
      "Confusion matrix\n",
      "[[364   7  55   3]\n",
      " [  7  38   2   1]\n",
      " [ 58   8 381   6]\n",
      " [  5   0   5  24]]\n"
     ]
    }
   ],
   "source": [
    "# Make a set of predictions for the test data\n",
    "pred = model.predict_classes(X_test)\n",
    "\n",
    "# Print performance details\n",
    "print(metrics.classification_report(y_test_num, pred))\n",
    "print(\"Confusion matrix\")\n",
    "print(metrics.confusion_matrix(y_test_num, pred))"
   ]
  },
  {
   "cell_type": "markdown",
   "metadata": {},
   "source": [
    "## Task 3\n",
    "\n",
    "### Results"
   ]
  },
  {
   "cell_type": "markdown",
   "metadata": {},
   "source": [
    "<table>\n",
    "    <tr>\n",
    "        <td >\n",
    "            <img align=\"center\" src=\"ml_player.PNG\" width=\"500\" height=\"400\" /> \n",
    "        </td>\n",
    "    </tr>\n",
    "</table>"
   ]
  },
  {
   "cell_type": "markdown",
   "metadata": {},
   "source": [
    "Results for Boltzmann with changed Warm up size pararmeter"
   ]
  },
  {
   "cell_type": "markdown",
   "metadata": {},
   "source": [
    "<table>\n",
    "    <tr>\n",
    "        <td >\n",
    "            <img align=\"center\" src=\"boltzman_warm.PNG\" width=\"500\" height=\"400\" /> \n",
    "        </td>\n",
    "    </tr>\n",
    "</table>"
   ]
  },
  {
   "cell_type": "markdown",
   "metadata": {},
   "source": [
    "Boltzmann with default hyper-parameters"
   ]
  },
  {
   "cell_type": "markdown",
   "metadata": {},
   "source": [
    "<table>\n",
    "    <tr>\n",
    "        <td >\n",
    "            <img align=\"center\" src=\"boltzmann_reward.PNG\" width=\"500\" height=\"400\" /> \n",
    "        </td>\n",
    "    </tr>\n",
    "</table>"
   ]
  },
  {
   "cell_type": "markdown",
   "metadata": {},
   "source": [
    "Results for epsilon greedy with changed warm up size parameters"
   ]
  },
  {
   "cell_type": "markdown",
   "metadata": {},
   "source": [
    "<table>\n",
    "    <tr>\n",
    "        <td >\n",
    "            <img align=\"center\" src=\"greedy_warm.PNG\" width=\"500\" height=\"400\" /> \n",
    "        </td>\n",
    "    </tr>\n",
    "</table>"
   ]
  },
  {
   "cell_type": "markdown",
   "metadata": {},
   "source": [
    "Results for epsilon greedy with default parameters"
   ]
  },
  {
   "cell_type": "markdown",
   "metadata": {},
   "source": [
    "<table>\n",
    "    <tr>\n",
    "        <td >\n",
    "            <img align=\"center\" src=\"greedy_reward.PNG\" width=\"500\" height=\"400\" /> \n",
    "        </td>\n",
    "    </tr>\n",
    "</table>"
   ]
  },
  {
   "cell_type": "markdown",
   "metadata": {},
   "source": [
    "### Conclusion"
   ]
  },
  {
   "cell_type": "markdown",
   "metadata": {},
   "source": [
    "In this assignment, we conducted Lunar Lander experiment with ml_player and the reinforcement learning player. We have used evaluation metrics such as accuracy and F1 Score.\n",
    "\n",
    "* For ml-player, we trained and created a model and used the model to train the player. We created Sequential, vgg16 and svm models to compare the performances. We found better results with SVM classification.\n",
    "\n",
    "* The results could found in the graphs shown above. As we can see from the results, the greedy approach performed better and gave better rewards compared to the Boltzmann policy.\n",
    "\n",
    "* We started training RL algorithm with EpsGreedyQPolicy and 200 episodes, the rewards mostly tend towards negative values, mean reward remained at -0.37 and total negative reward was -150. With higher episodes, we tend to get better rewards.\n",
    "\n",
    "* For Boltzmann policy, the rewards were much lower and hence we can conclude that using EpsGreedyQPolicy yields better results.\n",
    "\n",
    "* We also did experiments on the deep learning based approach to train the lunar lander player. We found that the rl-player gives better rewards than the supervised learning approach(ml-player)."
   ]
  },
  {
   "cell_type": "markdown",
   "metadata": {},
   "source": []
  }
 ],
 "metadata": {
  "kernelspec": {
   "display_name": "Python 3",
   "language": "python",
   "name": "python3"
  },
  "language_info": {
   "codemirror_mode": {
    "name": "ipython",
    "version": 3
   },
   "file_extension": ".py",
   "mimetype": "text/x-python",
   "name": "python",
   "nbconvert_exporter": "python",
   "pygments_lexer": "ipython3",
   "version": "3.7.3"
  }
 },
 "nbformat": 4,
 "nbformat_minor": 2
}
